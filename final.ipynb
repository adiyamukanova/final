{
 "cells": [
  {
   "cell_type": "code",
   "execution_count": 1,
   "id": "86f5e049-9895-46af-9986-d2b492535d83",
   "metadata": {},
   "outputs": [
    {
     "name": "stdout",
     "output_type": "stream",
     "text": [
      "Shortest distances from D:\n",
      "A: -2\n",
      "B: 5\n",
      "C: 1\n",
      "D: 0\n",
      "E: 3\n"
     ]
    }
   ],
   "source": [
    "def bellman_ford(edges, vertices, source):\n",
    "    distances = {vertex: float(\"inf\") for vertex in vertices}\n",
    "    distances[source] = 0  # Distance to the source node is 0\n",
    "\n",
    "# Relax edges |V| - 1 times\n",
    "    for _ in range(len(vertices) - 1):  # Iterate |V| - 1 times\n",
    "        for u, v, weight in edges:  # For each edge (u, v, weight)\n",
    "            if distances[u] + weight < distances[v]:  # Check if a shorter path exists\n",
    "                distances[v] = distances[u] + weight\n",
    "\n",
    "# Check for negative weight cycles\n",
    "    for u, v, weight in edges:\n",
    "        if distances[u] + weight < distances[v]:\n",
    "            print(\"Graph contains a negative weight cycle\")\n",
    "            return\n",
    "    else:\n",
    "    # Print the shortest distances\n",
    "        print(f\"Shortest distances from {source}:\")\n",
    "        for vertex, distance in distances.items():\n",
    "            print(f\"{vertex}: {distance}\")\n",
    "\n",
    "edges = [\n",
    "    ('D', 'A', 4),\n",
    "    ('D', 'C', 7),\n",
    "    ('D', 'E', 3),\n",
    "    ('A', 'C', 4),\n",
    "    ('A', 'E', 5),\n",
    "    ('C', 'A', -3),\n",
    "    ('E', 'C', 3),\n",
    "    ('E', 'B', 2),\n",
    "    ('B', 'C', -4),\n",
    "]\n",
    "vertices = ['A', 'B', 'C', 'D', 'E']\n",
    "bellman_ford(edges, vertices, 'D')"
   ]
  },
  {
   "cell_type": "code",
   "execution_count": 11,
   "id": "d9280d77-cc08-4b9f-a2a0-f797a7b118e2",
   "metadata": {},
   "outputs": [
    {
     "name": "stdout",
     "output_type": "stream",
     "text": [
      "Graph contains a negative weight cycle\n"
     ]
    }
   ],
   "source": [
    "# negative weight cycle\n",
    "\n",
    "def bellman_ford(edges, vertices, source):\n",
    "    distances = {vertex: float(\"inf\") for vertex in vertices}\n",
    "    distances[source] = 0  \n",
    "\n",
    "    for _ in range(len(vertices) - 1): \n",
    "        for u, v, weight in edges:\n",
    "            if distances[u] + weight < distances[v]: \n",
    "                distances[v] = distances[u] + weight\n",
    "\n",
    "    for u, v, weight in edges:\n",
    "        if distances[u] + weight < distances[v]:\n",
    "            print(\"Graph contains a negative weight cycle\")\n",
    "            return\n",
    "    else:\n",
    "        print(f\"Shortest distances from {source}:\")\n",
    "        for vertex, distance in distances.items():\n",
    "            print(f\"{vertex}: {distance}\")\n",
    "\n",
    "\n",
    "edges = [\n",
    "    (0, 1, 4),\n",
    "    (1, 2, -6),\n",
    "    (2, 3, 5),\n",
    "    (3, 1, -2),\n",
    "]\n",
    "vertices = [0, 1, 2, 3]\n",
    "bellman_ford(edges, vertices, 0)"
   ]
  },
  {
   "cell_type": "code",
   "execution_count": null,
   "id": "aa8e12ac-10e0-467c-81f6-4b310a5100d7",
   "metadata": {},
   "outputs": [],
   "source": []
  }
 ],
 "metadata": {
  "kernelspec": {
   "display_name": "Python 3 (ipykernel)",
   "language": "python",
   "name": "python3"
  },
  "language_info": {
   "codemirror_mode": {
    "name": "ipython",
    "version": 3
   },
   "file_extension": ".py",
   "mimetype": "text/x-python",
   "name": "python",
   "nbconvert_exporter": "python",
   "pygments_lexer": "ipython3",
   "version": "3.12.4"
  }
 },
 "nbformat": 4,
 "nbformat_minor": 5
}
